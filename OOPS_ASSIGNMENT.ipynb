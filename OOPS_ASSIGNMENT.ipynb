{
  "nbformat": 4,
  "nbformat_minor": 0,
  "metadata": {
    "colab": {
      "provenance": []
    },
    "kernelspec": {
      "name": "python3",
      "display_name": "Python 3"
    },
    "language_info": {
      "name": "python"
    }
  },
  "cells": [
    {
      "cell_type": "markdown",
      "source": [
        "OOPS ASSIGNMENT\n",
        "THEORY QUESTIONS\n"
      ],
      "metadata": {
        "id": "-pv4CDiGBFho"
      }
    },
    {
      "cell_type": "markdown",
      "source": [
        "Q1. What is Object-Oriented Programming (OOP)?\n",
        "\n",
        "Object-Oriented Programming (OOP) is a programming model that organizes\n",
        "software design around data (objects) and their associated functions (methods), rather than logic and functions."
      ],
      "metadata": {
        "id": "B-F3fuYeBS0k"
      }
    },
    {
      "cell_type": "markdown",
      "source": [
        "Q2.What is a class in OOP?\n",
        "\n",
        " The class is a user-defined data structure that combines the methods and data members into a single entity.For the production of objects, classes serve as blueprints or code templates. You can make as many objects as you desire using a class."
      ],
      "metadata": {
        "id": "fI-POWHaBavC"
      }
    },
    {
      "cell_type": "markdown",
      "source": [
        "Q3.What is an object in OOP?\n",
        "\n",
        " An instance of a class is an object. It consists of a set of methods and attributes. Actions are carried out using a class's object. Objects have two qualities: They exhibit states and actions."
      ],
      "metadata": {
        "id": "dXfYvEO_BgR-"
      }
    },
    {
      "cell_type": "markdown",
      "source": [
        "Q4.What is the difference between abstraction and encapsulation?\n",
        "\n",
        "Encapsulation ensures data security and prevents direct access to internal state.\n",
        "\n",
        "Abstraction allows for creating a hierarchy of classes with a common interface or base class and facilitates code reusability and maintainability.\n",
        "\n"
      ],
      "metadata": {
        "id": "YYA2_NhfBk5y"
      }
    },
    {
      "cell_type": "markdown",
      "source": [
        "Q5.What are dunder methods in Python?\n",
        "\n",
        " Dunder methods, also known as magic methods or special methods, in Python are special reserved methods that are surrounded by double underscores (i.e., __method__). These methods allow you to define how instances of your classes behave when they are used with built-in Python functions or operators."
      ],
      "metadata": {
        "id": "zSLec3ljBlBK"
      }
    },
    {
      "cell_type": "markdown",
      "source": [
        "Q6.Explain the concept of inheritance in OOPS?\n",
        "\n",
        " Inheritance in Object-Oriented Programming (OOP) is a fundamental concept that allows a class to acquire the properties and behaviors (methods and fields) of another class. This mechanism establishes an \"is-a\" relationship between classes, promoting code reusability and the creation of a hierarchical structure."
      ],
      "metadata": {
        "id": "ZJ7cBXrdBlEA"
      }
    },
    {
      "cell_type": "markdown",
      "source": [
        "Q7.What is polymorphism in OOP?\n",
        "  \n",
        "  In OOP, polymorphism refers to an object's capacity to assume several forms.\n",
        "  Simply said, polymorphism enables us to carry out a single activity in a variety of ways.poly (many) and morphism (forms), we get polymorphism. Polymorphism is the capacity to assume several shapes."
      ],
      "metadata": {
        "id": "IlJXvrbyBlIp"
      }
    },
    {
      "cell_type": "markdown",
      "source": [
        "Q8.How is encapsulation achieved in Python?\n",
        "\n",
        " You combine methods that provide read or write access with an attribute that is hidden from view on the exterior of an object. Then, you may limit who has access to the object's internal state and hide particular pieces of information. Without giving the program complete access to all of a class's variables, encapsulation provides a mechanism for us to obtain the necessary variable. This method is used to shield an object's data from other objects."
      ],
      "metadata": {
        "id": "sAC3WktgBlQ9"
      }
    },
    {
      "cell_type": "markdown",
      "source": [
        "Q9.What is a constructor in Python?\n",
        "\n",
        " A constructor is a particular method used in object-oriented programming to\n",
        "  generate and initialise an object of a class. In the class, this method is defined."
      ],
      "metadata": {
        "id": "yrMvQforBlaN"
      }
    },
    {
      "cell_type": "markdown",
      "source": [
        "Q10.What are class and static methods in Python?\n",
        "\n",
        " -Class Method: used to access or alter the class state. If we exclusively use class variables when implementing a method, we should declare that method as a class method.\n",
        "\n",
        " -Static Method: It is a general utility method that handles a single task. Since this method is static and doesn't have access to class attributes, we don't use instance or class variables within it."
      ],
      "metadata": {
        "id": "5anomNFbBldN"
      }
    },
    {
      "cell_type": "markdown",
      "source": [
        "Q11.What is method overloading in Python?\n",
        "\n",
        "Method overloading is the practice of invoking the same method more than\n",
        "once with different parameters. Method overloading is not supported by Python. Even if you overload the method, Python only takes into account the most recent definition. If you overload a method in Python, a TypeError will be raised."
      ],
      "metadata": {
        "id": "WwjiqYKqBljJ"
      }
    },
    {
      "cell_type": "markdown",
      "source": [
        "Q12.What is method overriding in OOP?\n",
        "\n",
        "In Python, method overriding is the process of providing a different\n",
        "implementation for a method that is already defined in the superclass within a subclass. It enables the subclass to define its own version of a method with the same name and parameters as the method in the superclass. When a method is overridden, the subclass implements the method in its own way, which overrides the behaviour defined in the superclass."
      ],
      "metadata": {
        "id": "VBgOnbFwBlmT"
      }
    },
    {
      "cell_type": "markdown",
      "source": [
        "Q13.What is a property decorator in Python?\n",
        "\n",
        " A decorator is a strong and adaptable tool in Python that lets you improve or alter a function or method's behavior without altering the source code. Decorators offer a neat and sophisticated method of enclosing functions, facilitating code reuse and improving readability."
      ],
      "metadata": {
        "id": "zVGfts4yBlpK"
      }
    },
    {
      "cell_type": "markdown",
      "source": [
        "Q14.Why Polymorphism is important in OOP?\n",
        "\n",
        "Polymorphism is important in OOP because of the following reason-\n",
        "\n",
        "Polymorphism allows extensibility to the developers. With the help of polymorphism in OOPs, we can easily create a new class derived from the existing class.\n",
        "\n",
        "The code written can be used without modification. It helps to reduce the redundancy in code and also removes the need to write similar code repeatedly.\n",
        "\n",
        "Polymorphism provides method overloading and method overriding.\n",
        "\n",
        "It allows better readability and code maintenance.\n",
        "\n",
        "Programmers are able to write codes more frequently and creatively.\n",
        "\n",
        "All the major data types can be stored in a single variable with the help of polymorphism which makes the implementation easy to use and develop.\n",
        "\n",
        "It allows for simple debugging."
      ],
      "metadata": {
        "id": "G8dRSGBQBlsa"
      }
    },
    {
      "cell_type": "markdown",
      "source": [
        "Q15.What is an abstract class in Python?\n",
        "\n",
        "In Python, abstraction is a key idea in object-oriented programming (OOP) that\n",
        "allows you to describe complicated systems by hiding unneeded details and exposing just essential aspects.It aids in the management of programme complexity by breaking it down into smaller, more manageable sections.\n",
        "Classes and objects are used to accomplish abstraction. A class is a blueprint for constructing objects,whereas an object is a class instance."
      ],
      "metadata": {
        "id": "VHQogeY2Blvl"
      }
    },
    {
      "cell_type": "markdown",
      "source": [
        "Q16.What are the advantages of OOP?\n",
        "\n",
        " The main advantages of Object-Oriented Programming (OOP) are Modularity, Code Reusability, Flexibility (through polymorphism), Maintainability, Security (via encapsulation and abstraction), and improved Productivity.      "
      ],
      "metadata": {
        "id": "8hbtWafXBly6"
      }
    },
    {
      "cell_type": "markdown",
      "source": [
        "Q17.What is the difference between a class variable and an instance variable?\n",
        "\n",
        " -Instance variables: Instance variables are properties that are joined to a class instance. In the constructor (the class's init() method), we define instance variables.\n",
        "\n",
        " -Class Variables: A variable that is declared inside a class but outside of any instance methods or init()methods is referred to as a class variable."
      ],
      "metadata": {
        "id": "wfs4-xoaBl2F"
      }
    },
    {
      "cell_type": "markdown",
      "source": [
        "Q18.What is multiple inheritance in Python?\n",
        "\n",
        " Multiple inheritance allows classes to inherit and combine the behavior of multiple parent classes, providing flexibility in designing complex class hierarchies. However, it’s important to carefully consider the design and potential complexities that can arise when using multiple inheritance."
      ],
      "metadata": {
        "id": "15j4o296Bl5c"
      }
    },
    {
      "cell_type": "markdown",
      "source": [
        "Q19. Explain the purpose of ‘’__str__’ and ‘__repr__’ ‘ methods in Python?\n",
        "\n",
        " -str__ (for \"string\"):This method provides a user-friendly, readable string representation of an object. Its primary purpose is to be consumed by humans, such as when printing an object or displaying it in a log file. It should return a string that is easy to understand and provides a concise summary of the object's state. If __str__ is not defined in a class, Python will fall back to using __repr__.\n",
        "\n",
        " -__repr__ (for \"representation\"):This method provides an unambiguous, developer-focused string representation of an object. Its primary purpose is for debugging, logging, and object inspection. The string returned by __repr__ should ideally be a valid Python expression that, when evaluated, could recreate an equivalent object. This makes it useful for developers to understand the object's internal state and reconstruct it if needed.\n"
      ],
      "metadata": {
        "id": "2dU7VxcyC2HH"
      }
    },
    {
      "cell_type": "markdown",
      "source": [
        "Q20.What is the significance of the ‘super()’ function in Python?\n",
        "\n",
        " Enabling Method Overriding and Extension:super() allows a subclass to override a method inherited from its parent class while still being able to call the parent's version of that method. This enables extending the parent's functionality rather than completely replacing it. For example, a subclass's __init__ method can call super().__init__() to ensure the parent's initialization is performed before adding subclass-specific attributes.\n",
        " Facilitating Code Reusability:By allowing access to parent class methods, super() promotes code reusability. Instead of duplicating code from the parent in the child class, super() can be used to invoke the existing implementation, leading to more concise and maintainable code.\n",
        " Managing Complex Inheritance Hierarchies (especially Multiple Inheritance):\n",
        " In scenarios involving multiple inheritance, super() becomes crucial for correctly navigating the Method Resolution Order (MRO). It ensures that methods are called in the correct sequence as defined by the MRO, preventing issues and ensuring proper behavior when a method exists in multiple parent cla"
      ],
      "metadata": {
        "id": "zeUVvv-rC2LE"
      }
    },
    {
      "cell_type": "markdown",
      "source": [
        "Q21.What is the significance of the __del__ method in Python?\n",
        "\n",
        " Resource Management:The primary purpose of __del__ is to provide a hook for performing cleanup actions when an object is about to be destroyed. This is crucial for releasing external resources held by the object, such as:\n",
        " Closing open file handles.\n",
        " Terminating network connections.\n",
        " Releasing database connections.\n",
        " Deallocating memory for C extensions.\n",
        " Destructor-like Behavior:It mimics the behavior of destructors in other object-oriented languages like C++ or Java, allowing for a defined cleanup routine before an object's memory is reclaimed by the garbage collector.\n",
        " Automatic Invocation:Unlike regular methods, __del__ is not called directly by the programmer. Instead, it is automatically invoked by the Python interpreter when an object's reference count drops to zero and the object is eligible for garbage collection.\n"
      ],
      "metadata": {
        "id": "48m5uNiQC2P0"
      }
    },
    {
      "cell_type": "markdown",
      "source": [
        "Q22.What is the difference between @staticmethod and @classmethod in Python?\n",
        "\n",
        " -Class methods are methods that are bound to the class and not the instance of the class. They can access or modify class state that applies across all instances of the class. Class methods are defined using the @classmethod  decorator.\n",
        "\n",
        " -Static methods are methods that belong to the class and don't access or modify class or instance state. They are defined using the @staticmethod decorator."
      ],
      "metadata": {
        "id": "KUgBml3AC2UC"
      }
    },
    {
      "cell_type": "markdown",
      "source": [
        "Q23.How does polymorphism work in Python with inheritance?\n",
        "\n",
        " Heritance:A child class (subclass) inherits methods and attributes from its parent class (superclass). This means the child class initially has access to the parent's methods.\n",
        "\n",
        "Method Overriding: If a child class needs a different behavior for an inherited method, it can redefine that method with the same name within its own class definition. This redefinition is known as method overriding. When an instance of the child class calls this method, its own overridden version will be executed instead of the parent's version.\n",
        "Polymorphic Behavior:The key aspect of polymorphism here is that objects of different classes (the parent class and its subclasses) can respond to the same method call in different ways, based on their specific implementations. This enables you to write code that can interact with objects of various types in a uniform manner, without needing to know their exact class at runtime."
      ],
      "metadata": {
        "id": "05tV58lDC2Xf"
      }
    },
    {
      "cell_type": "markdown",
      "source": [
        "Q24.What is method chaining in Python OOP?\n",
        "\n",
        " Method chaining in Python OOP is a programming technique that allows for calling multiple methods on an object in a single, continuous line of code. This is achieved by having each method in the chain return the object itself (or a modified version of it) after performing its operation.\n",
        "\n"
      ],
      "metadata": {
        "id": "qKfkQvz1C2a-"
      }
    },
    {
      "cell_type": "markdown",
      "source": [
        "Q25.What is the purpose of the __call__ method in Python?\n",
        "\n",
        " The purpose of the __call__ method in Python is to make instances of a class callable, meaning they can be invoked like functions.When the __call__ method is defined within a class, and an instance of that class is subsequently called using parentheses (e.g., my_object()), the __call__ method of that instance is automatically executed. This allows objects to encapsulate both data and behavior in a way that makes them behave like functions, providing a more flexible and dynamic approach to object-oriented programming.\n",
        " This functionality is useful in scenarios where an object needs to represent an operation or a function-like entity, while also maintaining its state and attributes as an object.\n"
      ],
      "metadata": {
        "id": "rAAp8b9GDb9k"
      }
    },
    {
      "cell_type": "markdown",
      "source": [
        "PRACTICAL QUESTIONS\n"
      ],
      "metadata": {
        "id": "tAKlcS0aOb1r"
      }
    },
    {
      "cell_type": "markdown",
      "source": [
        "Q1.Create a parent class Animal with a method speak() that prints a generic message. Create a child class Dog that overrides the speak() method to print \"Bark!\".\n"
      ],
      "metadata": {
        "id": "pyct1wdcP8Bi"
      }
    },
    {
      "cell_type": "code",
      "source": [
        "class animal:\n",
        "  def speak(self):\n",
        "    print(\"generic message\")\n",
        "class dog(animal):\n",
        "  def speak(self):\n",
        "    print(\"bark\")"
      ],
      "metadata": {
        "id": "Y5lJgSgXTEOg"
      },
      "execution_count": 1,
      "outputs": []
    },
    {
      "cell_type": "code",
      "source": [
        "anm= animal()\n",
        "anm.speak()"
      ],
      "metadata": {
        "colab": {
          "base_uri": "https://localhost:8080/"
        },
        "id": "Dcb0RQvabdDh",
        "outputId": "c12fdffe-9b72-4f01-89be-fe8caaf6d829"
      },
      "execution_count": 2,
      "outputs": [
        {
          "output_type": "stream",
          "name": "stdout",
          "text": [
            "generic message\n"
          ]
        }
      ]
    },
    {
      "cell_type": "code",
      "source": [
        "d1=dog()\n",
        "d1.speak()"
      ],
      "metadata": {
        "colab": {
          "base_uri": "https://localhost:8080/"
        },
        "id": "SHbvbdgxbsKW",
        "outputId": "d73668ed-8796-4d1f-871c-6ef8a065883c"
      },
      "execution_count": 3,
      "outputs": [
        {
          "output_type": "stream",
          "name": "stdout",
          "text": [
            "bark\n"
          ]
        }
      ]
    },
    {
      "cell_type": "markdown",
      "source": [
        "Q2.Write a program to create an abstract class Shape with a method area(). Derive classes Circle and Rectangle from it and implement the area() method in both."
      ],
      "metadata": {
        "id": "sr9Gl7O8QCFA"
      }
    },
    {
      "cell_type": "code",
      "source": [
        "class shape:\n",
        "  def area(self):\n",
        "    print(\"area\")\n",
        "class circle(shape):\n",
        "  def area(self):\n",
        "    print(\"circle\")\n",
        "class rectangle(shape):\n",
        "  def area(self):\n",
        "    print(\"rectangle\")"
      ],
      "metadata": {
        "id": "MrLDucg_TDCW"
      },
      "execution_count": 4,
      "outputs": []
    },
    {
      "cell_type": "code",
      "source": [
        "sh=shape()\n",
        "sh.area()"
      ],
      "metadata": {
        "colab": {
          "base_uri": "https://localhost:8080/"
        },
        "id": "FlHnFhbCb9A7",
        "outputId": "9ce4858a-7ecd-4335-9d66-2676b3145844"
      },
      "execution_count": 5,
      "outputs": [
        {
          "output_type": "stream",
          "name": "stdout",
          "text": [
            "area\n"
          ]
        }
      ]
    },
    {
      "cell_type": "code",
      "source": [
        "c1=circle()\n",
        "c1.area()"
      ],
      "metadata": {
        "colab": {
          "base_uri": "https://localhost:8080/"
        },
        "id": "CC21nlPacCpW",
        "outputId": "8f8f9c69-926c-4ffc-cdfd-b01baff7f196"
      },
      "execution_count": 6,
      "outputs": [
        {
          "output_type": "stream",
          "name": "stdout",
          "text": [
            "circle\n"
          ]
        }
      ]
    },
    {
      "cell_type": "markdown",
      "source": [
        "Q3.Implement a multi-level inheritance scenario where a class Vehicle has an attribute type. Derive a class Car and further derive a class ElectricCar that adds a battery attribute."
      ],
      "metadata": {
        "id": "8eaS-rKPQDKN"
      }
    },
    {
      "cell_type": "code",
      "source": [
        "class vehicle:\n",
        "  def __init__(self,type):\n",
        "    self.type=type\n",
        "class car(vehicle):\n",
        "  def __init__(self,type,model):\n",
        "    super().__init__(type)\n",
        "    self.model=model"
      ],
      "metadata": {
        "id": "NDkEm4HiTAck"
      },
      "execution_count": 7,
      "outputs": []
    },
    {
      "cell_type": "markdown",
      "source": [
        "Q4.Demonstrate polymorphism by creating a base class Bird with a method fly(). Create two derived classes Sparrow and Penguin that override the fly() method."
      ],
      "metadata": {
        "id": "U5aApcQ4QDXC"
      }
    },
    {
      "cell_type": "code",
      "source": [
        "class Bird:\n",
        "  def fly(self):\n",
        "    print(\"fly with wings\")\n",
        "class Sparrow(Bird):\n",
        "  def fly(self):\n",
        "    print(\"sparrow can fly\")\n",
        "class Penguin(Bird):\n",
        "  def fly(self):\n",
        "    print(\"penguin can fly\")"
      ],
      "metadata": {
        "id": "Q33aW1IOS_R2"
      },
      "execution_count": 8,
      "outputs": []
    },
    {
      "cell_type": "code",
      "source": [
        "b1= Bird ()\n",
        "b1.fly()"
      ],
      "metadata": {
        "colab": {
          "base_uri": "https://localhost:8080/"
        },
        "id": "ZqxeB64hSg1J",
        "outputId": "b7fa48d9-b0ad-47a4-a88f-3abd97ea3ea3"
      },
      "execution_count": 9,
      "outputs": [
        {
          "output_type": "stream",
          "name": "stdout",
          "text": [
            "fly with wings\n"
          ]
        }
      ]
    },
    {
      "cell_type": "code",
      "source": [
        "sp1= Sparrow()\n",
        "sp1.fly()"
      ],
      "metadata": {
        "colab": {
          "base_uri": "https://localhost:8080/"
        },
        "id": "WzzXvfMqS2my",
        "outputId": "8f5ef165-7c02-40b8-a982-01e52aa48ad9"
      },
      "execution_count": 10,
      "outputs": [
        {
          "output_type": "stream",
          "name": "stdout",
          "text": [
            "sparrow can fly\n"
          ]
        }
      ]
    },
    {
      "cell_type": "markdown",
      "source": [
        "Q5. Write a program to demonstrate encapsulation by creating a class BankAccount with private attributes balance and methods to deposit, withdraw, and check balance."
      ],
      "metadata": {
        "id": "Pid9X1eCQDbq"
      }
    },
    {
      "cell_type": "code",
      "source": [
        "class bank:\n",
        "  def __init__(self, balance):\n",
        "    self.__balance = balance\n",
        "\n",
        "  def deposit(self, amount):\n",
        "    self.__balance = self.__balance + amount\n",
        "\n",
        "  def withdraw(self, amount):\n",
        "    if self.__balance >= amount:\n",
        "      self.__balance = self.__balance - amount\n",
        "      return True\n",
        "    else:\n",
        "      return False\n",
        "\n",
        "  def get_balance(self):\n",
        "    return self.__balance"
      ],
      "metadata": {
        "id": "-B6RXVukS-CL"
      },
      "execution_count": 11,
      "outputs": []
    },
    {
      "cell_type": "code",
      "source": [
        "acc1 = bank(1000)\n",
        "acc1. get_balance ()"
      ],
      "metadata": {
        "colab": {
          "base_uri": "https://localhost:8080/"
        },
        "id": "61cvZTOxUan-",
        "outputId": "6a7b516c-0091-4320-bf22-e874d6cbe551"
      },
      "execution_count": 12,
      "outputs": [
        {
          "output_type": "execute_result",
          "data": {
            "text/plain": [
              "1000"
            ]
          },
          "metadata": {},
          "execution_count": 12
        }
      ]
    },
    {
      "cell_type": "code",
      "source": [
        "acc1.deposit(500)\n",
        "acc1.get_balance()"
      ],
      "metadata": {
        "colab": {
          "base_uri": "https://localhost:8080/"
        },
        "id": "wSO5AMV5Xj0K",
        "outputId": "dc277d5c-07ef-421c-cc9b-f5b77a24b4a1"
      },
      "execution_count": 13,
      "outputs": [
        {
          "output_type": "execute_result",
          "data": {
            "text/plain": [
              "1500"
            ]
          },
          "metadata": {},
          "execution_count": 13
        }
      ]
    },
    {
      "cell_type": "code",
      "source": [
        "acc1. withdraw(100)\n",
        "acc1.get_balance()"
      ],
      "metadata": {
        "colab": {
          "base_uri": "https://localhost:8080/"
        },
        "id": "_UOP5a3LXq6j",
        "outputId": "fada91f8-dc41-4ad5-ac5e-1bbcf4ce9f30"
      },
      "execution_count": 14,
      "outputs": [
        {
          "output_type": "execute_result",
          "data": {
            "text/plain": [
              "1400"
            ]
          },
          "metadata": {},
          "execution_count": 14
        }
      ]
    },
    {
      "cell_type": "code",
      "source": [
        "acc1. get_balance()"
      ],
      "metadata": {
        "colab": {
          "base_uri": "https://localhost:8080/"
        },
        "id": "oKpkTAxBX0Um",
        "outputId": "1a5e6e13-f1f8-423b-c950-2ff5bbfc489f"
      },
      "execution_count": 15,
      "outputs": [
        {
          "output_type": "execute_result",
          "data": {
            "text/plain": [
              "1400"
            ]
          },
          "metadata": {},
          "execution_count": 15
        }
      ]
    },
    {
      "cell_type": "code",
      "source": [
        "acc1.withdraw(1500)"
      ],
      "metadata": {
        "colab": {
          "base_uri": "https://localhost:8080/"
        },
        "id": "nyG7vITAX7iV",
        "outputId": "a0fe0649-fe8b-4d4c-e80b-0a883ddbc94c"
      },
      "execution_count": 16,
      "outputs": [
        {
          "output_type": "execute_result",
          "data": {
            "text/plain": [
              "False"
            ]
          },
          "metadata": {},
          "execution_count": 16
        }
      ]
    },
    {
      "cell_type": "markdown",
      "source": [
        "Q6.Demonstrate runtime polymorphism using a method play() in a base class Instrument. Derive classes Guitar and Piano that implement their own version of play()."
      ],
      "metadata": {
        "id": "9JjGDe4AQDof"
      }
    },
    {
      "cell_type": "code",
      "source": [
        "class instrument:\n",
        "  def play(self):\n",
        "    print(\"play\")\n",
        "class guitar(instrument):\n",
        "  def play(self):\n",
        "    print(\"guitar\")\n",
        "class piano(instrument):\n",
        "  def play(self):\n",
        "    print(\"piano\")"
      ],
      "metadata": {
        "id": "0WA6ONjCS8tS"
      },
      "execution_count": 17,
      "outputs": []
    },
    {
      "cell_type": "code",
      "source": [
        "i1= instrument()\n",
        "i1.play()"
      ],
      "metadata": {
        "colab": {
          "base_uri": "https://localhost:8080/"
        },
        "id": "mRLwTlP4YQ_Y",
        "outputId": "fe0d6f42-d383-4205-93f8-2c1431597aea"
      },
      "execution_count": 18,
      "outputs": [
        {
          "output_type": "stream",
          "name": "stdout",
          "text": [
            "play\n"
          ]
        }
      ]
    },
    {
      "cell_type": "code",
      "source": [
        "g1=guitar()\n",
        "g1.play()"
      ],
      "metadata": {
        "colab": {
          "base_uri": "https://localhost:8080/"
        },
        "id": "R4BSprMEZS4S",
        "outputId": "5401edd8-aad6-49f4-f815-28d23de22ec7"
      },
      "execution_count": 19,
      "outputs": [
        {
          "output_type": "stream",
          "name": "stdout",
          "text": [
            "guitar\n"
          ]
        }
      ]
    },
    {
      "cell_type": "code",
      "source": [
        "p1=piano()\n",
        "p1.play()"
      ],
      "metadata": {
        "colab": {
          "base_uri": "https://localhost:8080/"
        },
        "id": "UswPzLzaZZHO",
        "outputId": "8ee4abe1-c9eb-4f54-d25a-18782fc5859e"
      },
      "execution_count": 20,
      "outputs": [
        {
          "output_type": "stream",
          "name": "stdout",
          "text": [
            "piano\n"
          ]
        }
      ]
    },
    {
      "cell_type": "markdown",
      "source": [
        "Q7.Create a class MathOperations with a class method add_numbers() to add two numbers and a static method subtract_numbers() to subtract two numbers."
      ],
      "metadata": {
        "id": "j-XjHZF1QDsx"
      }
    },
    {
      "cell_type": "code",
      "source": [
        "class calculator:\n",
        "\n",
        "     @classmethod\n",
        "     def add(cls,a,b):\n",
        "          return a+b"
      ],
      "metadata": {
        "id": "ub1VqS5ZP2IH"
      },
      "execution_count": 21,
      "outputs": []
    },
    {
      "cell_type": "code",
      "source": [
        "calculator.add(10,5)"
      ],
      "metadata": {
        "colab": {
          "base_uri": "https://localhost:8080/"
        },
        "id": "K7LhoN5IQyfm",
        "outputId": "e9d86288-afd1-491e-b4de-7a7092b25172"
      },
      "execution_count": 22,
      "outputs": [
        {
          "output_type": "execute_result",
          "data": {
            "text/plain": [
              "15"
            ]
          },
          "metadata": {},
          "execution_count": 22
        }
      ]
    },
    {
      "cell_type": "code",
      "source": [
        "class calculator:\n",
        "\n",
        "       @staticmethod\n",
        "       def subtract(a,b):\n",
        "          return a-b"
      ],
      "metadata": {
        "id": "tyKhYdOnS7zM"
      },
      "execution_count": 23,
      "outputs": []
    },
    {
      "cell_type": "code",
      "source": [
        "calculator.subtract(10,5)"
      ],
      "metadata": {
        "colab": {
          "base_uri": "https://localhost:8080/"
        },
        "id": "wMhuHxd9OlTO",
        "outputId": "41ec20b8-83bb-4ea8-fd62-85d46fd1c407"
      },
      "execution_count": 24,
      "outputs": [
        {
          "output_type": "execute_result",
          "data": {
            "text/plain": [
              "5"
            ]
          },
          "metadata": {},
          "execution_count": 24
        }
      ]
    },
    {
      "cell_type": "markdown",
      "source": [
        "Q8.Implement a class Person with a class method to count the total number of persons created."
      ],
      "metadata": {
        "id": "7XtOnK03QDxo"
      }
    },
    {
      "cell_type": "code",
      "source": [
        "class person:\n",
        "  count=10\n",
        "  def __init__(self):\n",
        "    person.count=person.count+1"
      ],
      "metadata": {
        "id": "X28SSUMCS5vc"
      },
      "execution_count": 25,
      "outputs": []
    },
    {
      "cell_type": "code",
      "source": [
        "per = person()\n",
        "person.count"
      ],
      "metadata": {
        "colab": {
          "base_uri": "https://localhost:8080/"
        },
        "id": "spLZAMIYastq",
        "outputId": "25953752-eaaf-407b-9962-6bcb7b2044fc"
      },
      "execution_count": 26,
      "outputs": [
        {
          "output_type": "execute_result",
          "data": {
            "text/plain": [
              "11"
            ]
          },
          "metadata": {},
          "execution_count": 26
        }
      ]
    },
    {
      "cell_type": "markdown",
      "source": [
        "Q9. Write a class Fraction with attributes numerator and denominator. Override the str method to display the fraction as \"numerator/denominator\".\n"
      ],
      "metadata": {
        "id": "wgRfndxbRKV-"
      }
    },
    {
      "cell_type": "code",
      "source": [
        "class fraction:\n",
        "  def __init__(self,numerator,denominator):\n",
        "    self.numerator=numerator\n",
        "    self.denominator=denominator\n",
        "  def __str__(self):\n",
        "    return f\"{self.numerator}/{self.denominator}\""
      ],
      "metadata": {
        "id": "NaeRXughS45i"
      },
      "execution_count": 27,
      "outputs": []
    },
    {
      "cell_type": "code",
      "source": [
        "fraction1=fraction(3,4)\n",
        "print(fraction1)"
      ],
      "metadata": {
        "colab": {
          "base_uri": "https://localhost:8080/"
        },
        "id": "I0jQZ0RIdIyR",
        "outputId": "23b01639-eded-4f91-fe77-069664895b15"
      },
      "execution_count": 28,
      "outputs": [
        {
          "output_type": "stream",
          "name": "stdout",
          "text": [
            "3/4\n"
          ]
        }
      ]
    },
    {
      "cell_type": "markdown",
      "source": [
        "Q10.Demonstrate operator overloading by creating a class Vector and overriding the add method to add two vectors."
      ],
      "metadata": {
        "id": "oslHtE-1RK5H"
      }
    },
    {
      "cell_type": "code",
      "source": [
        "class vector:\n",
        "  def __init__(self,x,y):\n",
        "    self.x=x\n",
        "    self.y=y\n",
        "  def __add__(self,other):\n",
        "    return vector(self.x+other.x,self.y+other.y)"
      ],
      "metadata": {
        "id": "W-S8izQAS4OE"
      },
      "execution_count": 29,
      "outputs": []
    },
    {
      "cell_type": "code",
      "source": [
        "vector1=vector(1,2)\n",
        "vector2=vector(3,4)\n",
        "result=vector1+vector2\n",
        "print(result.x,result.y)"
      ],
      "metadata": {
        "colab": {
          "base_uri": "https://localhost:8080/"
        },
        "id": "M5IBw0naeU0c",
        "outputId": "bcb6f82f-9112-4cbe-be01-66e700951144"
      },
      "execution_count": 30,
      "outputs": [
        {
          "output_type": "stream",
          "name": "stdout",
          "text": [
            "4 6\n"
          ]
        }
      ]
    },
    {
      "cell_type": "markdown",
      "source": [
        "Q11. Create a class Person with attributes name and age. Add a method greet() that prints \"Hello, my name is {name} and I am {age} years old.\"\n"
      ],
      "metadata": {
        "id": "WbnQWwk-RK_R"
      }
    },
    {
      "cell_type": "code",
      "source": [
        "class person:\n",
        "  def __init__(self,name,age):\n",
        "    self.name=name\n",
        "    self.age=age\n",
        "  def greet(self):\n",
        "    print(f\"Hello, my name is {self.name} and I am {self.age} years old.\")"
      ],
      "metadata": {
        "id": "CvJWWJJ3S3Yb"
      },
      "execution_count": 31,
      "outputs": []
    },
    {
      "cell_type": "code",
      "source": [
        "person1=person(\"john\",25)\n",
        "person1.greet()"
      ],
      "metadata": {
        "colab": {
          "base_uri": "https://localhost:8080/"
        },
        "id": "Vm89APODekK9",
        "outputId": "16d9fb4c-4122-4c09-a76f-add82e9e1b7b"
      },
      "execution_count": 32,
      "outputs": [
        {
          "output_type": "stream",
          "name": "stdout",
          "text": [
            "Hello, my name is john and I am 25 years old.\n"
          ]
        }
      ]
    },
    {
      "cell_type": "markdown",
      "source": [
        "Q12.Implement a class Student with attributes name and grades. Create a method average_grade() to compute the average of the grades.\n",
        "\n"
      ],
      "metadata": {
        "id": "q63ClQzvRLJl"
      }
    },
    {
      "cell_type": "code",
      "source": [
        "from os import name\n",
        "class student:\n",
        "  def __init__(self,name,grades):\n",
        "    self.name=name\n",
        "    self.grades=grades\n",
        "  def average_grade(self):\n",
        "    print(sum(self.grades)/len(self.grades))"
      ],
      "metadata": {
        "id": "HxPUQPo6S2fp"
      },
      "execution_count": 33,
      "outputs": []
    },
    {
      "cell_type": "code",
      "source": [
        "student1=student(\"john\",[80,90,75])\n",
        "student1.average_grade()"
      ],
      "metadata": {
        "colab": {
          "base_uri": "https://localhost:8080/"
        },
        "id": "g4U_t-wqfXos",
        "outputId": "7fa2b1b9-3c32-4868-b808-3336c639ccad"
      },
      "execution_count": 34,
      "outputs": [
        {
          "output_type": "stream",
          "name": "stdout",
          "text": [
            "81.66666666666667\n"
          ]
        }
      ]
    },
    {
      "cell_type": "markdown",
      "source": [
        "Q13.Create a class Rectangle with methods set_dimensions() to set the dimensions and area() to calculate the area."
      ],
      "metadata": {
        "id": "XpjdcciaRLNx"
      }
    },
    {
      "cell_type": "code",
      "source": [
        "class rectangle:\n",
        "  def __init__(self,length,width):\n",
        "    self.length=length\n",
        "    self.width=width\n",
        "  def area(self):\n",
        "    return self.length*self.width"
      ],
      "metadata": {
        "id": "9aJsvf-xS1aY"
      },
      "execution_count": 35,
      "outputs": []
    },
    {
      "cell_type": "code",
      "source": [
        "rec= rectangle(10,5)\n",
        "rec.area()"
      ],
      "metadata": {
        "colab": {
          "base_uri": "https://localhost:8080/"
        },
        "id": "4E3p8NK1aAXG",
        "outputId": "bb6f9e77-00bf-40cd-bb73-ff88518c513b"
      },
      "execution_count": 36,
      "outputs": [
        {
          "output_type": "execute_result",
          "data": {
            "text/plain": [
              "50"
            ]
          },
          "metadata": {},
          "execution_count": 36
        }
      ]
    },
    {
      "cell_type": "markdown",
      "source": [
        "Q14. Create a class Employee with a method calculate_salary() that computes the salary based on hours worked and hourly rate. Create a derived class Manager that adds a bonus to the salary."
      ],
      "metadata": {
        "id": "XsHT_nRCStkV"
      }
    },
    {
      "cell_type": "code",
      "source": [
        "class employee:\n",
        "  def __init__(self,name,hours_worked,hourly_rate):\n",
        "    self.name=name\n",
        "    self.hours_worked=hours_worked\n",
        "    self.hourly_rate=hourly_rate"
      ],
      "metadata": {
        "id": "QS0CXkO7S0U3"
      },
      "execution_count": 37,
      "outputs": []
    },
    {
      "cell_type": "code",
      "source": [
        "emp=employee(\"sonia\",40,10)\n",
        "emp.hours_worked*emp.hourly_rate"
      ],
      "metadata": {
        "colab": {
          "base_uri": "https://localhost:8080/"
        },
        "id": "dWgamzMFfuBN",
        "outputId": "e5081adb-52a1-46e1-e716-e3dff8d45bed"
      },
      "execution_count": 38,
      "outputs": [
        {
          "output_type": "execute_result",
          "data": {
            "text/plain": [
              "400"
            ]
          },
          "metadata": {},
          "execution_count": 38
        }
      ]
    }
  ]
}